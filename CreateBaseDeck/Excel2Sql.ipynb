{
 "cells": [
  {
   "cell_type": "code",
   "execution_count": 30,
   "metadata": {},
   "outputs": [],
   "source": [
    "import numpy as np \n",
    "import pandas as pd\n",
    "\n",
    "\n",
    "State=\"NC\"\n",
    "GeneratorDataPath=\"february_generator2023.xlsx\"\n"
   ]
  },
  {
   "attachments": {},
   "cell_type": "markdown",
   "metadata": {},
   "source": [
    "# Code to Convert Excel Table to Sql data"
   ]
  },
  {
   "attachments": {},
   "cell_type": "markdown",
   "metadata": {},
   "source": [
    "## Generation \n"
   ]
  },
  {
   "cell_type": "code",
   "execution_count": null,
   "metadata": {},
   "outputs": [],
   "source": [
    "##Generation data from: Preliminary Monthly Electric Generator Inventory (based on Form EIA-860M as a supplement to Form EIA-860)\n",
    "\n",
    "#Read File\n",
    "df = pd.read_excel(GeneratorDataPath, sheet_name ='Operating',skiprows=2)\n",
    "InState=df[\"Plant State\"]==State #Filter for NC\n",
    "df=df[InState]"
   ]
  },
  {
   "cell_type": "code",
   "execution_count": 161,
   "metadata": {},
   "outputs": [],
   "source": [
    "df_AggregateGen.to_excel(\"tmp.xlsx\")\n"
   ]
  },
  {
   "cell_type": "code",
   "execution_count": 160,
   "metadata": {},
   "outputs": [],
   "source": [
    "#   Some plants may have multiple generators commissioned at different times\n",
    "#   we are aggregating the capacity of these generators per year\n",
    "\n",
    "#   We can have multiple vintages (years) of the same plant. As generators may be comissioned at different times\n",
    "\n",
    "df_AggregateGen = pd.DataFrame(columns=[\"PlantID\", \"SourceCode\", \"MoverCode\", \"OperatingYear\",\"NameplateCapacity(MW)\",\"NetSummerCapacity(MW)\",\"NetWinterCapacity(MW)\",\n",
    " \"NameplateEnergyCapacity(MWh)\", \"Latitude\",\"Longitude\",\"Technology\"])\n",
    "\n",
    "for ID in df[\"Plant ID\"].unique().astype(int):\n",
    "    #Same Plant data\n",
    "    SameIds   = df[\"Plant ID\"]==ID\n",
    "    df_tmp1    = df[SameIds]\n",
    "\n",
    "    SourceCode=df_tmp1[\"Energy Source Code\"]\n",
    "    #Same Energy Source Code data\n",
    "    for UniqueSC in SourceCode.unique():\n",
    "        SameIds    = df_tmp1[\"Energy Source Code\"]==UniqueSC\n",
    "        df_tmp2    = df_tmp1[SameIds]\n",
    "\n",
    "        MoverCode=df_tmp2[\"Prime Mover Code\"]\n",
    "        #Same Mover Code data\n",
    "        for UniqueMC in MoverCode.unique():\n",
    "            SameIds    = df_tmp2[\"Prime Mover Code\"]==UniqueMC\n",
    "            df_tmp3    = df_tmp2[SameIds]\n",
    "\n",
    "            OperatingYear=df_tmp3[\"Operating Year\"]\n",
    "            OperatingYear.sort_values()\n",
    "            #Same Year Code data\n",
    "            for UniqueY in OperatingYear.unique():\n",
    "                SameIds    = df_tmp3[\"Operating Year\"]==UniqueY\n",
    "                df_tmp4    = df_tmp3[SameIds]\n",
    "\n",
    "                NameplateEnergyCapacity=np.sum(df_tmp4[\"Nameplate Energy Capacity (MWh)\"])\n",
    "                NameplateCapacity=np.sum(df_tmp4[\"Nameplate Capacity (MW)\"])\n",
    "                NetSummerCapacity=np.sum(df_tmp4[\"Net Summer Capacity (MW)\"])\n",
    "                NetWinterCapacity=np.sum(df_tmp4[\"Net Winter Capacity (MW)\"])\n",
    "\n",
    "                Latitude  = df_tmp4[\"Latitude\"].iloc[0]\n",
    "                Longitude = df_tmp4[\"Longitude\"].iloc[0]\n",
    "                Technology= df_tmp4[\"Technology\"].iloc[0]\n",
    "\n",
    "                NewPlantID = UniqueSC + \"_\" + UniqueMC + \"_\" + str(ID) \n",
    "\n",
    "                Data=[[NewPlantID, UniqueSC, UniqueMC, UniqueY, NameplateCapacity, NetSummerCapacity, NetWinterCapacity,NameplateEnergyCapacity,\n",
    "                Latitude,Longitude,Technology]]\n",
    "\n",
    "                df_AggregateGen=pd.concat([df_AggregateGen,pd.DataFrame(Data,columns=df_AggregateGen.columns)],ignore_index=True)"
   ]
  }
 ],
 "metadata": {
  "kernelspec": {
   "display_name": "Temoa",
   "language": "python",
   "name": "python3"
  },
  "language_info": {
   "codemirror_mode": {
    "name": "ipython",
    "version": 3
   },
   "file_extension": ".py",
   "mimetype": "text/x-python",
   "name": "python",
   "nbconvert_exporter": "python",
   "pygments_lexer": "ipython3",
   "version": "3.10.9"
  },
  "orig_nbformat": 4
 },
 "nbformat": 4,
 "nbformat_minor": 2
}
