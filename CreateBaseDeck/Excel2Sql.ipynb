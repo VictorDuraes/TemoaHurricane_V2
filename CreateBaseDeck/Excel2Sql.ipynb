{
 "cells": [
  {
   "cell_type": "code",
   "execution_count": 98,
   "metadata": {},
   "outputs": [],
   "source": [
    "import numpy as np \n",
    "import pandas as pd\n",
    "from haversine import haversine_vector, Unit\n",
    "\n",
    "\n",
    "State=\"NC\"\n",
    "GeneratorDataPath=\"february_generator2023.xlsx\"\n",
    "\n",
    "\n",
    "Vintages=np.arange(2022,1900,-2) #[2022 to 2020), [2020 to 2018) Needs to start from earlier date to later date\n",
    "AggregationDistance=16#[km], Distance technologies need to be in order to get aggregated with each other \n",
    "#Only technologies of the same vintage period, and type will be aggregated"
   ]
  },
  {
   "attachments": {},
   "cell_type": "markdown",
   "metadata": {},
   "source": [
    "# Code to Convert Excel Table to Sql data"
   ]
  },
  {
   "attachments": {},
   "cell_type": "markdown",
   "metadata": {},
   "source": [
    "## Generation \n"
   ]
  },
  {
   "cell_type": "code",
   "execution_count": 108,
   "metadata": {},
   "outputs": [
    {
     "name": "stdout",
     "output_type": "stream",
     "text": [
      "Operating\n",
      "Planned\n",
      "Retired\n",
      "Canceled or Postponed\n",
      "Operating_PR\n",
      "Planned_PR\n",
      "Retired_PR\n"
     ]
    }
   ],
   "source": [
    "##Generation data from: Preliminary Monthly Electric Generator Inventory (based on Form EIA-860M as a supplement to Form EIA-860)\n",
    "\n",
    "#Read File\n",
    "df = pd.read_excel(GeneratorDataPath, sheet_name ='Operating',skiprows=2)\n",
    "InState=df[\"Plant State\"]==State #Filter for NC\n",
    "df=df[InState]"
   ]
  },
  {
   "cell_type": "code",
   "execution_count": 125,
   "metadata": {},
   "outputs": [],
   "source": [
    "#   Some plants may have multiple generators commissioned at different times\n",
    "#   we are aggregating the capacity of these generators per year\n",
    "\n",
    "#   We can have multiple vintages (years) of the same plant. As generators may be comissioned at different times\n",
    "df_AggregateGen = pd.DataFrame(columns=[\"PlantID\", \"SourceCode\", \"MoverCode\", \"OperatingYear\",\"NameplateCapacity(MW)\",\"NetSummerCapacity(MW)\",\"NetWinterCapacity(MW)\",\n",
    " \"NameplateEnergyCapacity(MWh)\", \"Latitude\",\"Longitude\",\"Technology\"])\n",
    "\n",
    "for ID in df[\"Plant ID\"].unique().astype(int):\n",
    "    #Same Plant data\n",
    "    SameIds   = df[\"Plant ID\"]==ID\n",
    "    df_tmp1    = df[SameIds]\n",
    "\n",
    "    SourceCode=df_tmp1[\"Energy Source Code\"]\n",
    "    #Same Energy Source Code data\n",
    "    for UniqueSC in SourceCode.unique():\n",
    "        SameIds    = df_tmp1[\"Energy Source Code\"]==UniqueSC\n",
    "        df_tmp2    = df_tmp1[SameIds]\n",
    "\n",
    "        MoverCode=df_tmp2[\"Prime Mover Code\"]\n",
    "        #Same Mover Code data\n",
    "        for UniqueMC in MoverCode.unique():\n",
    "            SameIds    = df_tmp2[\"Prime Mover Code\"]==UniqueMC\n",
    "            df_tmp3    = df_tmp2[SameIds]\n",
    "\n",
    "            OperatingYear=df_tmp3[\"Operating Year\"]\n",
    "            OperatingYear=OperatingYear.sort_values(ascending=False)\n",
    "            #Same Year Code data\n",
    "            for UniqueY in OperatingYear.unique():\n",
    "                SameIds    = df_tmp3[\"Operating Year\"]==UniqueY\n",
    "                df_tmp4    = df_tmp3[SameIds]\n",
    "\n",
    "                NameplateEnergyCapacity=np.sum(df_tmp4[\"Nameplate Energy Capacity (MWh)\"])\n",
    "                NameplateCapacity=np.sum(df_tmp4[\"Nameplate Capacity (MW)\"])\n",
    "                NetSummerCapacity=np.sum(df_tmp4[\"Net Summer Capacity (MW)\"])\n",
    "                NetWinterCapacity=np.sum(df_tmp4[\"Net Winter Capacity (MW)\"])\n",
    "\n",
    "                Latitude  = df_tmp4[\"Latitude\"].iloc[0]\n",
    "                Longitude = df_tmp4[\"Longitude\"].iloc[0]\n",
    "                Technology= df_tmp4[\"Technology\"].iloc[0]\n",
    "\n",
    "                NewPlantID = UniqueSC + \"_\" + UniqueMC + \"_\" + str(ID) \n",
    "\n",
    "                Data=[[NewPlantID, UniqueSC, UniqueMC, UniqueY, NameplateCapacity, NetSummerCapacity, NetWinterCapacity,NameplateEnergyCapacity,\n",
    "                Latitude,Longitude,Technology]]\n",
    "\n",
    "                df_AggregateGen=pd.concat([df_AggregateGen,pd.DataFrame(Data,columns=df_AggregateGen.columns)],ignore_index=True)"
   ]
  },
  {
   "cell_type": "code",
   "execution_count": 37,
   "metadata": {},
   "outputs": [
    {
     "data": {
      "text/plain": [
       "(961, 961)"
      ]
     },
     "execution_count": 37,
     "metadata": {},
     "output_type": "execute_result"
    }
   ],
   "source": [
    "Vintages=np.arange(2022,1900,-2) #[2022 to 2020), [2020 to 2018)\n",
    "AggregationDistance=16#[km], Distance technologies need to be in order to get aggregated with each other \n",
    "#Only technologies of the same vintage period, and type will be aggregated"
   ]
  },
  {
   "cell_type": "code",
   "execution_count": 64,
   "metadata": {},
   "outputs": [],
   "source": [
    "#   We can have multiple vintages (years) of the same plant. As generators may be comissioned at different times\n",
    "df_AggregateGen2 = pd.DataFrame(columns=[\"PlantID\", \"SourceCode\", \"MoverCode\", \"Vintage\",\"OperatingYear\",\"NameplateCapacity(MW)\",\"NetSummerCapacity(MW)\",\"NetWinterCapacity(MW)\",\n",
    " \"NameplateEnergyCapacity(MWh)\", \"Latitude\",\"Longitude\",\"Technology\"])\n",
    "\n",
    "#Compute distance matrix for each element on df_Aggregation\n",
    "Latitude=np.reshape(df_AggregateGen[\"Latitude\"].to_numpy(),(df_AggregateGen[\"Latitude\"].shape[0],1))\n",
    "Latitude=np.tile(Latitude,(1,Latitude.shape[0]))\n",
    "\n",
    "Longitude=np.reshape(df_AggregateGen[\"Longitude\"].to_numpy(),(df_AggregateGen[\"Longitude\"].shape[0],1))\n",
    "Longitude=np.tile(Longitude,(1,Longitude.shape[0]))\n",
    "\n",
    "X_LatLong=np.array([np.reshape(Latitude,(-1)),np.reshape(Longitude,(-1))]).T\n",
    "Y_LatLong=np.array([np.reshape(Latitude.T,(-1)),np.reshape(Longitude.T,(-1))]).T\n",
    "\n",
    "Distances=haversine_vector(X_LatLong,Y_LatLong, Unit.KILOMETERS)\n",
    "Distances=np.reshape(Distances,(Latitude.shape[0],Longitude.shape[0])) #Distances between any pair of available generators"
   ]
  },
  {
   "cell_type": "code",
   "execution_count": 127,
   "metadata": {},
   "outputs": [],
   "source": [
    "df_AggregateGen.to_excel(\"test.xlsx\")\n",
    "\n",
    "df_AggregateGen = pd.DataFrame(columns=[\"PlantID\", \"SourceCode\", \"MoverCode\", \"OperatingYear\",\"NameplateCapacity(MW)\",\"NetSummerCapacity(MW)\",\"NetWinterCapacity(MW)\",\n",
    " \"NameplateEnergyCapacity(MWh)\", \"Latitude\",\"Longitude\",\"Technology\"])"
   ]
  },
  {
   "cell_type": "code",
   "execution_count": 146,
   "metadata": {},
   "outputs": [
    {
     "ename": "NameError",
     "evalue": "name 'Vintage' is not defined",
     "output_type": "error",
     "traceback": [
      "\u001b[1;31m---------------------------------------------------------------------------\u001b[0m",
      "\u001b[1;31mNameError\u001b[0m                                 Traceback (most recent call last)",
      "\u001b[1;32m~\\AppData\\Local\\Temp\\ipykernel_7288\\1776172587.py\u001b[0m in \u001b[0;36m<module>\u001b[1;34m\u001b[0m\n\u001b[0;32m     33\u001b[0m \u001b[0mLatitude\u001b[0m\u001b[1;33m=\u001b[0m\u001b[0mnp\u001b[0m\u001b[1;33m.\u001b[0m\u001b[0msum\u001b[0m\u001b[1;33m(\u001b[0m\u001b[0mNPC\u001b[0m\u001b[1;33m*\u001b[0m\u001b[0mdf_tmp\u001b[0m\u001b[1;33m[\u001b[0m\u001b[1;34m\"Longitude\"\u001b[0m\u001b[1;33m]\u001b[0m\u001b[1;33m)\u001b[0m\u001b[1;33m/\u001b[0m\u001b[0mNameplateCapacity\u001b[0m\u001b[1;33m\u001b[0m\u001b[1;33m\u001b[0m\u001b[0m\n\u001b[0;32m     34\u001b[0m \u001b[0mOperatingYear\u001b[0m\u001b[1;33m=\u001b[0m\u001b[0mnp\u001b[0m\u001b[1;33m.\u001b[0m\u001b[0msum\u001b[0m\u001b[1;33m(\u001b[0m\u001b[0mNPC\u001b[0m\u001b[1;33m*\u001b[0m\u001b[0mdf_tmp\u001b[0m\u001b[1;33m[\u001b[0m\u001b[1;34m\"OperatingYear\"\u001b[0m\u001b[1;33m]\u001b[0m\u001b[1;33m)\u001b[0m\u001b[1;33m/\u001b[0m\u001b[0mNameplateCapacity\u001b[0m\u001b[1;33m\u001b[0m\u001b[1;33m\u001b[0m\u001b[0m\n\u001b[1;32m---> 35\u001b[1;33m \u001b[0mVintageYear\u001b[0m\u001b[1;33m=\u001b[0m\u001b[0mVintage\u001b[0m\u001b[1;33m[\u001b[0m\u001b[0mnp\u001b[0m\u001b[1;33m.\u001b[0m\u001b[0margmin\u001b[0m\u001b[1;33m(\u001b[0m\u001b[0mnp\u001b[0m\u001b[1;33m.\u001b[0m\u001b[0mabs\u001b[0m\u001b[1;33m(\u001b[0m\u001b[0mVintage\u001b[0m\u001b[1;33m-\u001b[0m\u001b[0mOperatingYear\u001b[0m\u001b[1;33m)\u001b[0m\u001b[1;33m)\u001b[0m\u001b[1;33m]\u001b[0m\u001b[1;33m\u001b[0m\u001b[1;33m\u001b[0m\u001b[0m\n\u001b[0m\u001b[0;32m     36\u001b[0m \u001b[1;33m\u001b[0m\u001b[0m\n\u001b[0;32m     37\u001b[0m \u001b[1;33m\u001b[0m\u001b[0m\n",
      "\u001b[1;31mNameError\u001b[0m: name 'Vintage' is not defined"
     ]
    }
   ],
   "source": [
    "ID=0\n",
    "#while df_AggregateGen.shape[0]!=0\n",
    "ID=ID+1\n",
    "RefGenerator=df_AggregateGen.iloc[0]\n",
    "IdxInDistance=Distances[0,:]<=AggregationDistance\n",
    "IdxSameSource=df_AggregateGen[\"SourceCode\"]==RefGenerator[\"SourceCode\"]\n",
    "IdxSameMover=df_AggregateGen[\"MoverCode\"]==RefGenerator[\"MoverCode\"]\n",
    "\n",
    "#Vintage Bracket of the current generator\n",
    "if np.min(np.abs(Vintages-RefGenerator[\"OperatingYear\"]))==0:\n",
    "    VintageMax=RefGenerator[\"OperatingYear\"]\n",
    "    VintageMin=RefGenerator[\"OperatingYear\"]-(Vintages[0]-Vintages[1])\n",
    "\n",
    "else:\n",
    "    IdxVintage=np.argsort(np.abs(Vintages-RefGenerator[\"OperatingYear\"]))[0:2] \n",
    "    VintageMax=np.max(Vintages[IdxVintage])\n",
    "    VintageMin=np.min(Vintages[IdxVintage])\n",
    "\n",
    "IdxSameVintage=(df_AggregateGen[\"OperatingYear\"]>VintageMin)*(df_AggregateGen[\"OperatingYear\"]<=VintageMax)\n",
    "\n",
    "IdxToAggregate=IdxSameVintage*IdxSameMover*IdxSameSource*IdxInDistance\n",
    "\n",
    "df_tmp=df_AggregateGen[IdxToAggregate]\n",
    "\n",
    "NameplateCapacity=np.sum(df_tmp[\"NameplateCapacity(MW)\"])\n",
    "NetSummerCapacity=np.sum(df_tmp[\"NetSummerCapacity(MW)\"])\n",
    "NetWinterCapacity=np.sum(df_tmp[\"NetWinterCapacity(MW)\"])\n",
    "NameplateEnergyCapacity=np.sum(df_tmp[\"NameplateEnergyCapacity(MWh)\"])\n",
    "\n",
    "#Lat Long, vintage and year of operation are estimated based on a weighted average of the Nplate Capacity\n",
    "NPC=df_tmp[\"NameplateCapacity(MW)\"]\n",
    "Latitude=np.sum(NPC*df_tmp[\"Latitude\"])/NameplateCapacity\n",
    "Latitude=np.sum(NPC*df_tmp[\"Longitude\"])/NameplateCapacity\n",
    "OperatingYear=np.sum(NPC*df_tmp[\"OperatingYear\"])/NameplateCapacity\n",
    "VintageYear=Vintage[np.argmin(np.abs(Vintage-OperatingYear))]\n",
    "\n",
    "\n",
    "\n",
    "NewPlantID = UniqueSC + \"_\" + UniqueMC + \"_\" + str(ID) \n",
    "Technology= df_tmp[\"Technology\"].iloc[0]\n",
    "\n",
    "Data=[[NewPlantID, RefGenerator[\"SourceCode\"], RefGenerator[\"MoverCode\"], VintageYear, OperatingYear,\n",
    " NameplateCapacity, NetSummerCapacity, NetWinterCapacity, NameplateEnergyCapacity,\n",
    " Latitude,Longitude,\n",
    " Technology]]\n",
    "\n"
   ]
  },
  {
   "cell_type": "code",
   "execution_count": 143,
   "metadata": {},
   "outputs": [
    {
     "data": {
      "text/html": [
       "<div>\n",
       "<style scoped>\n",
       "    .dataframe tbody tr th:only-of-type {\n",
       "        vertical-align: middle;\n",
       "    }\n",
       "\n",
       "    .dataframe tbody tr th {\n",
       "        vertical-align: top;\n",
       "    }\n",
       "\n",
       "    .dataframe thead th {\n",
       "        text-align: right;\n",
       "    }\n",
       "</style>\n",
       "<table border=\"1\" class=\"dataframe\">\n",
       "  <thead>\n",
       "    <tr style=\"text-align: right;\">\n",
       "      <th></th>\n",
       "      <th>PlantID</th>\n",
       "      <th>SourceCode</th>\n",
       "      <th>MoverCode</th>\n",
       "      <th>OperatingYear</th>\n",
       "      <th>NameplateCapacity(MW)</th>\n",
       "      <th>NetSummerCapacity(MW)</th>\n",
       "      <th>NetWinterCapacity(MW)</th>\n",
       "      <th>NameplateEnergyCapacity(MWh)</th>\n",
       "      <th>Latitude</th>\n",
       "      <th>Longitude</th>\n",
       "      <th>Technology</th>\n",
       "    </tr>\n",
       "  </thead>\n",
       "  <tbody>\n",
       "    <tr>\n",
       "      <th>0</th>\n",
       "      <td>NG_CT_1016</td>\n",
       "      <td>NG</td>\n",
       "      <td>CT</td>\n",
       "      <td>1980.0</td>\n",
       "      <td>28.8</td>\n",
       "      <td>20</td>\n",
       "      <td>25</td>\n",
       "      <td></td>\n",
       "      <td>35.0986</td>\n",
       "      <td>-78.8294</td>\n",
       "      <td>Natural Gas Fired Combined Cycle</td>\n",
       "    </tr>\n",
       "    <tr>\n",
       "      <th>1</th>\n",
       "      <td>NG_CT_1016</td>\n",
       "      <td>NG</td>\n",
       "      <td>CT</td>\n",
       "      <td>1979.0</td>\n",
       "      <td>28.8</td>\n",
       "      <td>20</td>\n",
       "      <td>25</td>\n",
       "      <td></td>\n",
       "      <td>35.0986</td>\n",
       "      <td>-78.8294</td>\n",
       "      <td>Natural Gas Fired Combined Cycle</td>\n",
       "    </tr>\n",
       "  </tbody>\n",
       "</table>\n",
       "</div>"
      ],
      "text/plain": [
       "      PlantID SourceCode MoverCode  OperatingYear  NameplateCapacity(MW)  \\\n",
       "0  NG_CT_1016         NG        CT         1980.0                   28.8   \n",
       "1  NG_CT_1016         NG        CT         1979.0                   28.8   \n",
       "\n",
       "  NetSummerCapacity(MW) NetWinterCapacity(MW) NameplateEnergyCapacity(MWh)  \\\n",
       "0                    20                    25                                \n",
       "1                    20                    25                                \n",
       "\n",
       "   Latitude  Longitude                        Technology  \n",
       "0   35.0986   -78.8294  Natural Gas Fired Combined Cycle  \n",
       "1   35.0986   -78.8294  Natural Gas Fired Combined Cycle  "
      ]
     },
     "execution_count": 143,
     "metadata": {},
     "output_type": "execute_result"
    }
   ],
   "source": [
    "RefGenerator=df_AggregateGen.iloc[0]\n",
    "IdxInDistance=Distances[0,:]<=AggregationDistance\n",
    "IdxSameSource=df_AggregateGen[\"SourceCode\"]==RefGenerator[\"SourceCode\"]\n",
    "IdxSameMover=df_AggregateGen[\"MoverCode\"]==RefGenerator[\"MoverCode\"]\n",
    "\n",
    "#Vintage Bracket of the current generator\n",
    "if np.min(np.abs(Vintages-RefGenerator[\"OperatingYear\"]))==0:\n",
    "    VintageMax=RefGenerator[\"OperatingYear\"]\n",
    "    VintageMin=RefGenerator[\"OperatingYear\"]-(Vintages[0]-Vintages[1])\n",
    "\n",
    "else:\n",
    "    IdxVintage=np.argsort(np.abs(Vintages-RefGenerator[\"OperatingYear\"]))[0:2] \n",
    "    VintageMax=np.max(Vintages[IdxVintage])\n",
    "    VintageMin=np.min(Vintages[IdxVintage])\n",
    "\n",
    "IdxSameVintage=(df_AggregateGen[\"OperatingYear\"]>VintageMin)*(df_AggregateGen[\"OperatingYear\"]<=VintageMax)\n",
    "\n",
    "IdxToAggregate=IdxSameVintage*IdxSameMover*IdxSameSource*IdxInDistance\n",
    "\n",
    "df_AggregateGen[IdxToAggregate]"
   ]
  },
  {
   "cell_type": "code",
   "execution_count": 96,
   "metadata": {},
   "outputs": [
    {
     "data": {
      "text/plain": [
       "PlantID                                               NG_CT_1016\n",
       "SourceCode                                                    NG\n",
       "MoverCode                                                     CT\n",
       "OperatingYear                                             1976.0\n",
       "NameplateCapacity(MW)                                       86.4\n",
       "NetSummerCapacity(MW)                                         60\n",
       "NetWinterCapacity(MW)                                         75\n",
       "NameplateEnergyCapacity(MWh)                                    \n",
       "Latitude                                                 35.0986\n",
       "Longitude                                               -78.8294\n",
       "Technology                      Natural Gas Fired Combined Cycle\n",
       "Name: 0, dtype: object"
      ]
     },
     "execution_count": 96,
     "metadata": {},
     "output_type": "execute_result"
    }
   ],
   "source": [
    "RefGenerator=df_AggregateGen.iloc[0]\n"
   ]
  }
 ],
 "metadata": {
  "kernelspec": {
   "display_name": "Temoa",
   "language": "python",
   "name": "python3"
  },
  "language_info": {
   "codemirror_mode": {
    "name": "ipython",
    "version": 3
   },
   "file_extension": ".py",
   "mimetype": "text/x-python",
   "name": "python",
   "nbconvert_exporter": "python",
   "pygments_lexer": "ipython3",
   "version": "3.10.9"
  },
  "orig_nbformat": 4
 },
 "nbformat": 4,
 "nbformat_minor": 2
}
