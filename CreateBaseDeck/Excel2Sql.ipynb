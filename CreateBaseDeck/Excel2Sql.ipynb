{
 "cells": [
  {
   "cell_type": "code",
   "execution_count": 328,
   "metadata": {},
   "outputs": [],
   "source": [
    "import numpy as np \n",
    "import pandas as pd\n",
    "from haversine import haversine_vector, Unit\n",
    "import geopandas as gpd\n",
    "from shapely.geometry import Point, MultiPoint\n",
    "from shapely.ops import unary_union\n",
    "import sys\n",
    "import matplotlib.pyplot as plt\n",
    "\n",
    "State=\"NC\"\n",
    "GeneratorDataPath=\"./EIAData/february_generator2023.xlsx\"\n",
    "HazusDataPath=\"./HazusData/Hazus_NC_Hurricane.shp\"\n",
    "\n",
    "UserDataPath=\"./ExcelUserData/\"\n",
    "CensusDataPath=\"./CensusData/US_tract_cenpop_2020.shp\" # https://data2.nhgis.org/downloads\n",
    "\n",
    "\n",
    "\n",
    "Vintages=np.arange(2022,1900,-1) #Exisiting years. [2022 to 2020), [2020 to 2018) Needs to start from earlier date to later date\n",
    "FutureYears=[2023]+list(np.arange(2025,2051,5))#2023 to 2050\n",
    "\n",
    "Seasons=[\"S1\",\"S2\",\"S3\",\"S4\"] # Winter, Spring, Summer, Fall\n",
    "TimeOfDay=[\"T1\",\"T2\",\"T3\",\"T4\",\"T5\",\"T6\",\"T7\",\"T8\",\"T9\",\"T10\",\"T11\",\"T12\",\"T13\",\"T14\",\"T15\",\"T16\",\"T17\",\"T18\",\"T19\",\"T20\",\"T21\",\"T22\",\"T23\",\"T24\"] # 24 hours of the day, cant be changed\n",
    "\n",
    "UserScenario=\"Conservative\" # (Conservative, Moderate, Advanced) from ATB cost perspectives\n",
    "\n",
    "\n",
    "\n",
    "#----- Tasks ------\n",
    "#1. Build df for ExistingCapacity     -ok (adjusted to match known retirement dates)\n",
    "#2. Build df for time_periods         -ok\n",
    "#3. Build df for time_period_labels   -ok\n",
    "#4. Build df for time_seasons         -ok\n",
    "#5. Build df for time_renewable       -ok\n",
    "#6. Build df for time_of_day          -ok \n",
    "#7. Build df for technology_labels    -ok\n",
    "#8. Build df for sector_labels        -ok\n",
    "#9. Build df for Demand               -ok\n",
    "#10.Build df for LifetimeTech         -ok (Filtered for relevant technologies and regions)\n",
    "#11.Build df for LifetimeLoanTech     -ok (Filtered for relevant technologies and regions)\n",
    "\n",
    "#12.Build df for CostInvestment       -in progress\n",
    "#13.Build df for CostVariable         -in progress\n",
    "#14.Build df for CostFixed            -in progress\n",
    "\n",
    "\n",
    "#----- Tasks next ------\n",
    "#1. Organize Costs in sql structure\n",
    "#2. Create Transmission costs\n",
    "\n",
    "#CapacityFactor\n",
    "#Emissions\n",
    "#C02 targets\n",
    "\n",
    "\n"
   ]
  },
  {
   "attachments": {},
   "cell_type": "markdown",
   "metadata": {},
   "source": [
    "# Code to Convert Excel Table to Sql data Part 1"
   ]
  },
  {
   "attachments": {},
   "cell_type": "markdown",
   "metadata": {},
   "source": [
    "## ExistingCapacity \n"
   ]
  },
  {
   "cell_type": "code",
   "execution_count": 195,
   "metadata": {},
   "outputs": [],
   "source": [
    "##Generation data from: Preliminary Monthly Electric Generator Inventory (based on Form EIA-860M as a supplement to Form EIA-860)\n",
    "\n",
    "#Read File\n",
    "df = pd.read_excel(GeneratorDataPath, sheet_name ='Operating',skiprows=2)\n",
    "InState=df[\"Plant State\"]==State #Filter for NC\n",
    "df=df[InState].reset_index()\n",
    "\n",
    "#NameplateCapacity should be larger than or equal to NetSummerCapacity and NetWinterCapacity\n",
    "NC=df[\"Nameplate Capacity (MW)\"]\n",
    "NSC=df[\"Net Summer Capacity (MW)\"]\n",
    "NWC=df[\"Net Winter Capacity (MW)\"]\n",
    "\n",
    "df[\"Nameplate Capacity (MW)\"]=np.max(np.vstack((NC,NSC,NWC)),axis=0)"
   ]
  },
  {
   "cell_type": "code",
   "execution_count": 196,
   "metadata": {},
   "outputs": [
    {
     "name": "stdout",
     "output_type": "stream",
     "text": [
      "Check Battery Data, some elements do not have NameplateEnergyCapacity(MWh) and were removed:\n",
      " Plant ID:\n",
      "MWH_BA_64640\n"
     ]
    }
   ],
   "source": [
    "#   Some plants may have multiple generators commissioned at different times\n",
    "#   we are aggregating the capacity of these generators per year\n",
    "\n",
    "#   We can have multiple vintages (years) of the same plant. As generators may be comissioned at different times\n",
    "df_AggregateGen = pd.DataFrame(columns=[\"PlantID\",\"SourceCode\", \"MoverCode\", \"OperatingYear\",\"NameplateCapacity(MW)\",\"NetSummerCapacity(MW)\",\"NetWinterCapacity(MW)\",\n",
    " \"NameplateEnergyCapacity(MWh)\", \"Latitude\",\"Longitude\",\"Technology\"])\n",
    "\n",
    "for ID in df[\"Plant ID\"].unique().astype(int):\n",
    "    #Same Plant data\n",
    "    SameIds   = df[\"Plant ID\"]==ID\n",
    "    df_tmp1    = df[SameIds]\n",
    "\n",
    "    SourceCode=df_tmp1[\"Energy Source Code\"]\n",
    "    #Same Energy Source Code data\n",
    "    for UniqueSC in SourceCode.unique():\n",
    "        SameIds    = df_tmp1[\"Energy Source Code\"]==UniqueSC\n",
    "        df_tmp2    = df_tmp1[SameIds]\n",
    "\n",
    "        MoverCode=df_tmp2[\"Prime Mover Code\"]\n",
    "        #Same Mover Code data\n",
    "        for UniqueMC in MoverCode.unique():\n",
    "            SameIds    = df_tmp2[\"Prime Mover Code\"]==UniqueMC\n",
    "            df_tmp3    = df_tmp2[SameIds]\n",
    "\n",
    "            OperatingYear=df_tmp3[\"Operating Year\"]\n",
    "            OperatingYear=OperatingYear.sort_values(ascending=False)\n",
    "            #Same Year Code data\n",
    "            for UniqueY in OperatingYear.unique():\n",
    "                \n",
    "                SameIds    = df_tmp3[\"Operating Year\"]==UniqueY\n",
    "                df_tmp4    = df_tmp3[SameIds].reset_index()\n",
    "\n",
    "                if UniqueMC!=\"BA\":\n",
    "                    NameplateEnergyCapacity=np.sum(df_tmp4[\"Nameplate Energy Capacity (MWh)\"])\n",
    "                    NameplateCapacity=np.sum(df_tmp4[\"Nameplate Capacity (MW)\"])\n",
    "                    NetSummerCapacity=np.sum(df_tmp4[\"Net Summer Capacity (MW)\"])\n",
    "                    NetWinterCapacity=np.sum(df_tmp4[\"Net Winter Capacity (MW)\"])\n",
    "\n",
    "                    Latitude  = df_tmp4[\"Latitude\"].iloc[0]\n",
    "                    Longitude = df_tmp4[\"Longitude\"].iloc[0]\n",
    "                    Technology= df_tmp4[\"Technology\"].iloc[0]\n",
    "\n",
    "                    NewPlantID = UniqueSC + \"_\" + UniqueMC + \"_\" + str(ID) \n",
    "\n",
    "                    Data=[[NewPlantID, UniqueSC, UniqueMC, UniqueY, NameplateCapacity, NetSummerCapacity, NetWinterCapacity,NameplateEnergyCapacity,\n",
    "                    Latitude,Longitude,Technology]]\n",
    "\n",
    "                    df_AggregateGen=pd.concat([df_AggregateGen,pd.DataFrame(Data,columns=df_AggregateGen.columns)],ignore_index=True)\n",
    "                else:\n",
    "                    NameplateEnergyCapacity=df_tmp4[\"Nameplate Energy Capacity (MWh)\"]\n",
    "                    NameplateCapacity=df_tmp4[\"Nameplate Capacity (MW)\"]\n",
    "                    NetSummerCapacity=df_tmp4[\"Net Summer Capacity (MW)\"]\n",
    "                    NetWinterCapacity=df_tmp4[\"Net Winter Capacity (MW)\"]\n",
    "\n",
    "                    Latitude  = df_tmp4[\"Latitude\"].iloc[0]\n",
    "                    Longitude = df_tmp4[\"Longitude\"].iloc[0]\n",
    "                    Technology= df_tmp4[\"Technology\"].iloc[0]\n",
    "\n",
    "                    NewPlantID = UniqueSC + \"_\" + UniqueMC + \"_\" + str(ID) \n",
    "\n",
    "                    for k in range(len(df_tmp4)):\n",
    "                        Data=[[NewPlantID, UniqueSC, UniqueMC, UniqueY, NameplateCapacity.iloc[k], NetSummerCapacity.iloc[k], NetWinterCapacity.iloc[k],\n",
    "                                NameplateEnergyCapacity.iloc[k],Latitude,Longitude,Technology]]\n",
    "\n",
    "                        df_AggregateGen=pd.concat([df_AggregateGen,pd.DataFrame(Data,columns=df_AggregateGen.columns)],ignore_index=True)                    \n",
    "\n",
    "#Delete technologies that are after the maximum vintage period\n",
    "df_AggregateGen=df_AggregateGen[df_AggregateGen[\"OperatingYear\"]<=np.max(Vintages)]\n",
    "\n",
    "#Check for missing data\n",
    "if sum(df_AggregateGen[df_AggregateGen[\"MoverCode\"]==\"BA\"][\"NameplateEnergyCapacity(MWh)\"]==' '):\n",
    "    EliminateIdx=(df_AggregateGen[\"MoverCode\"]==\"BA\") * (df_AggregateGen[\"NameplateEnergyCapacity(MWh)\"]==' ')\n",
    "    EliminateId=df_AggregateGen[EliminateIdx][\"PlantID\"]\n",
    "    print(\"Check Battery Data, some elements do not have NameplateEnergyCapacity(MWh) and were removed:\\n Plant ID:\")\n",
    "    [print(EliminateId.iloc[i]) for i in range(EliminateId.shape[0])]\n",
    "\n",
    "    df_AggregateGen=df_AggregateGen[~EliminateIdx]\n",
    "\n",
    "df_AggregateGen = df_AggregateGen.reset_index(drop=True)\n",
    "\n",
    "df_AggregateGen.to_excel(UserDataPath+\"Temporary_ToHelpBuildDecks/TMP_ExistingCapacity_UniqueTechNameLv1.xlsx\")"
   ]
  },
  {
   "attachments": {},
   "cell_type": "markdown",
   "metadata": {},
   "source": [
    "### Aggregate per region"
   ]
  },
  {
   "cell_type": "code",
   "execution_count": 197,
   "metadata": {},
   "outputs": [
    {
     "name": "stdout",
     "output_type": "stream",
     "text": [
      "All existing generators were properly mapped\n"
     ]
    }
   ],
   "source": [
    "shapefile_Hazus = gpd.read_file(HazusDataPath)\n",
    "Hazus1000=shapefile_Hazus.f1000yr\n",
    "\n",
    "Region1Idx=Hazus1000>=130 # Cat 4 hurricane and above 130mph\n",
    "Region2Idx=(Hazus1000>=111)*(Hazus1000<130) # Cat 3 hurricane 111-129mph\n",
    "Region3Idx=Hazus1000<111 # Cat 1-2 hurricane and bellow 110mph\n",
    "\n",
    "Region1Data=shapefile_Hazus[Region1Idx].reset_index()\n",
    "Region2Data=shapefile_Hazus[Region2Idx].reset_index() \n",
    "Region3Data=shapefile_Hazus[Region3Idx].reset_index()     \n",
    "\n",
    "new_polyR1 = unary_union([Region1Data.iloc[j][\"geometry\"] for j in range(Region1Data.shape[0])])\n",
    "new_polyR2 = unary_union([Region2Data.iloc[j][\"geometry\"] for j in range(Region2Data.shape[0])])\n",
    "new_polyR3 = unary_union([Region3Data.iloc[j][\"geometry\"] for j in range(Region3Data.shape[0])])\n",
    "\n",
    "df_AggregateGen[\"Region\"]=''\n",
    "#Assign region for each generation \n",
    "\n",
    "for i in range(df_AggregateGen.shape[0]):\n",
    "    Latitude=df_AggregateGen.iloc[i][\"Latitude\"]\n",
    "    Longitude=df_AggregateGen.iloc[i][\"Longitude\"]\n",
    "\n",
    "    if new_polyR1.contains(Point(Longitude,Latitude)):\n",
    "        df_AggregateGen.at[i,\"Region\"]='R1'\n",
    "\n",
    "    elif new_polyR2.contains(Point(Longitude,Latitude)):\n",
    "        df_AggregateGen.at[i,\"Region\"]='R2'\n",
    "    \n",
    "    elif new_polyR3.contains(Point(Longitude,Latitude)):\n",
    "        df_AggregateGen.at[i,\"Region\"]='R3'\n",
    "\n",
    "    else:\n",
    "        print(\"Error\")\n",
    "        break\n",
    "\n",
    "if sum(df_AggregateGen.Region=='')==0:\n",
    "    print(\"All existing generators were properly mapped\")\n",
    "else:\n",
    "    print(\"Some generators were no properly mapped to the Hazus data\\\n",
    "    check Hazus and the location of generators\")\n",
    "\n",
    "df_AggregateGen3 = pd.DataFrame(columns=[\"PlantID\", \"SourceCode\", \"MoverCode\", \"Vintage\",\"NameplateCapacity(MW)\",\"NetSummerCapacity(MW)\",\"NetWinterCapacity(MW)\",\n",
    "\"NameplateEnergyCapacity(MWh)\",\"Technology\",\"Region\"])\n",
    "\n",
    "\n",
    "for Region in [\"R1\",\"R2\",\"R3\"]:\n",
    "\n",
    "    df_tmp1=df_AggregateGen[df_AggregateGen[\"Region\"]==Region]\n",
    "\n",
    "    SourceCode=df_tmp1[\"SourceCode\"]\n",
    "    #Same Energy Source Code data\n",
    "    for UniqueSC in SourceCode.unique():\n",
    "        SameIds    = df_tmp1[\"SourceCode\"]==UniqueSC\n",
    "        df_tmp2    = df_tmp1[SameIds]\n",
    "\n",
    "        MoverCode=df_tmp2[\"MoverCode\"]\n",
    "        #Same Mover Code data\n",
    "        for UniqueMC in MoverCode.unique():\n",
    "            SameIds    = df_tmp2[\"MoverCode\"]==UniqueMC\n",
    "            df_tmp3    = df_tmp2[SameIds]\n",
    "            \n",
    "            OperatingYear=df_tmp3[\"OperatingYear\"]\n",
    "            for i in range(len(Vintages[0:-1])):\n",
    "\n",
    "                IdxsIn=(OperatingYear<=Vintages[i]+(Vintages[0]-Vintages[1])/2) * (OperatingYear>Vintages[i]-(Vintages[0]-Vintages[1])/2)\n",
    "                if sum(IdxsIn)!=0:\n",
    "                    if UniqueMC!=\"BA\":\n",
    "                        df_tmp4    = df_tmp3[IdxsIn].reset_index()    \n",
    "\n",
    "                        NameplateCapacity=np.sum(df_tmp4[\"NameplateCapacity(MW)\"])\n",
    "                        NetSummerCapacity=np.sum(df_tmp4[\"NetSummerCapacity(MW)\"])\n",
    "                        NetWinterCapacity=np.sum(df_tmp4[\"NetWinterCapacity(MW)\"])\n",
    "                        NameplateEnergyCapacity=np.sum(df_tmp4[\"NameplateEnergyCapacity(MWh)\"])\n",
    "                        \n",
    "                        NewPlantID = Region + \"_\" + UniqueSC + \"_\" + UniqueMC\n",
    "                        Technology= df_tmp4[\"Technology\"].iloc[0]\n",
    "\n",
    "                        Data=[[NewPlantID, UniqueSC, UniqueMC, Vintages[i] ,\n",
    "                        NameplateCapacity, NetSummerCapacity, NetWinterCapacity, NameplateEnergyCapacity,\n",
    "                        Technology,Region]]\n",
    "\n",
    "                        df_AggregateGen3=pd.concat([df_AggregateGen3,pd.DataFrame(Data,columns=df_AggregateGen3.columns)],ignore_index=True)\n",
    "                    else:\n",
    "                        #We need to differentiate between the different battery technologies\n",
    "                        #Consider 1, 2 ,4, 6, 8 ,10h battery\n",
    "                        df_tmp4=df_tmp3[IdxsIn].reset_index()    \n",
    "                        HoursOfOperation=df_tmp4[\"NameplateEnergyCapacity(MWh)\"]/df_tmp4[\"NameplateCapacity(MW)\"] #h operation of each battery\n",
    "\n",
    "\n",
    "                        TmpBrack=[0,1, 2 ,4, 6, 8 ,10]\n",
    "                        for h_id in range(len(TmpBrack)):\n",
    "                            \n",
    "                            IdxInBatteryH= (HoursOfOperation>TmpBrack[i]) * (HoursOfOperation<=TmpBrack[i+1])\n",
    "                            df_tmp5=df_tmp4[IdxInBatteryH].reset_index()    \n",
    "                            #if not empty\n",
    "                            if sum(IdxInBatteryH)!=0:\n",
    "                                \n",
    "                                #Need to ajust the power of the battery to match the energy capacity\n",
    "                                NameplateCapacity=np.sum(df_tmp5[\"NameplateEnergyCapacity(MWh)\"])/TmpBrack[i+1]\n",
    "                                NetSummerCapacity=NameplateCapacity\n",
    "                                NetWinterCapacity=NameplateCapacity\n",
    "                                NameplateEnergyCapacity=TmpBrack[i+1]*NameplateCapacity\n",
    "                                \n",
    "                                NewPlantID = Region + \"_\" + UniqueSC + \"_\" + UniqueMC +str(TmpBrack[i+1])+\"h\"\n",
    "                                Technology= df_tmp5[\"Technology\"].iloc[0]\n",
    "\n",
    "                                Data=[[NewPlantID, UniqueSC, UniqueMC, Vintages[i] ,\n",
    "                                NameplateCapacity, NetSummerCapacity, NetWinterCapacity, NameplateEnergyCapacity,\n",
    "                                Technology,Region]]\n",
    "\n",
    "                                df_AggregateGen3=pd.concat([df_AggregateGen3,pd.DataFrame(Data,columns=df_AggregateGen3.columns)],ignore_index=True)                                \n",
    "\n",
    "dfExistingCapacity=df_AggregateGen3"
   ]
  },
  {
   "attachments": {},
   "cell_type": "markdown",
   "metadata": {},
   "source": [
    "### Plot regions and tech location"
   ]
  },
  {
   "cell_type": "code",
   "execution_count": 198,
   "metadata": {},
   "outputs": [
    {
     "data": {
      "image/png": "[encoded data removed]",
      "text/plain": [
       "<Figure size 640x480 with 1 Axes>"
      ]
     },
     "metadata": {},
     "output_type": "display_data"
    }
   ],
   "source": [
    "import matplotlib.pyplot as plt\n",
    "fig, ax = plt.subplots()\n",
    "\n",
    "count=0\n",
    "for geom in new_polyR1.geoms:    \n",
    "    xs, ys = geom.exterior.xy    \n",
    "    count=count+1\n",
    "    if count==1:\n",
    "        ax.fill(xs, ys, alpha=0.5, fc='r', ec='none',label=\"R1\")\n",
    "    else:\n",
    "        ax.fill(xs, ys, alpha=0.5, fc='r', ec='none')\n",
    "\n",
    "count=0\n",
    "for geom in new_polyR2.geoms:    \n",
    "    count=count+1\n",
    "    xs, ys = geom.exterior.xy    \n",
    "    if count==1:\n",
    "        ax.fill(xs, ys, alpha=0.5, fc='yellow', ec='none',label=\"R2\")\n",
    "    else:\n",
    "        ax.fill(xs, ys, alpha=0.5, fc='yellow', ec='none')\n",
    "\n",
    "\n",
    "xs, ys = new_polyR3.exterior.xy    \n",
    "ax.fill(xs, ys, alpha=0.5, fc='green', ec='none',label=\"R3\")\n",
    "\n",
    "\n",
    "plt.scatter(df_AggregateGen[\"Longitude\"],df_AggregateGen[\"Latitude\"],color=\"black\",s=1, label=\"Generators\")\n",
    "\n",
    "plt.xlabel(\"Longitude\")\n",
    "plt.ylabel(\"Latitude\")\n",
    "plt.legend()\n",
    "plt.savefig(\"RegionsByRisk.png\")\n"
   ]
  },
  {
   "attachments": {},
   "cell_type": "markdown",
   "metadata": {},
   "source": [
    "### Write df on sql format"
   ]
  },
  {
   "cell_type": "code",
   "execution_count": 199,
   "metadata": {},
   "outputs": [],
   "source": [
    "dfExistingCapacity_sql = pd.DataFrame(columns=[\"regions\", \"tech\", \"vintage\", \"exist_cap\", \"exist_cap_units\", \"exist_cap_notes\"])\n",
    "dfExistingCapacity_sql[\"regions\"]=dfExistingCapacity[\"Region\"]\n",
    "dfExistingCapacity_sql[\"tech\"]=dfExistingCapacity[\"PlantID\"].str.split('_').str[1:3].str.join('_')\n",
    "\n",
    "\n",
    "dfExistingCapacity_sql[\"vintage\"]=dfExistingCapacity[\"Vintage\"]\n",
    "dfExistingCapacity_sql[\"exist_cap\"]=dfExistingCapacity[\"NameplateCapacity(MW)\"]/1000 #MW to GW\n",
    "dfExistingCapacity_sql[\"exist_cap_units\"]=\"GW\"\n",
    "dfExistingCapacity_sql[\"exist_cap_notes\"]=\"EIA 860 Generator + Code 2 aggregate\"\n",
    "\n",
    "\n",
    "#Export unique tech name and description to facilitate the manual mapping\n",
    "data1=dfExistingCapacity_sql[\"tech\"].unique()\n",
    "data2=[dfExistingCapacity[ dfExistingCapacity[\"PlantID\"].str.split('_').str[1:3].str.join('_')==tech][\"Technology\"].iloc[0] for tech in dfExistingCapacity_sql[\"tech\"].unique()]\n",
    "\n",
    "dfExistingCapacity_sql[\"tech\"]=dfExistingCapacity_sql[\"tech\"]+\"_Existing\"\n",
    "data1=data1+\"_Existing\"\n",
    "data=zip(data1,data2)\n",
    "\n",
    "ExistingCapacity_UniqueTechNamedf=pd.DataFrame(columns=[\"tech\",\"description\"],data=data)\n",
    "ExistingCapacity_UniqueTechNamedf.to_excel(UserDataPath + \"Temporary_ToHelpBuildDecks/TMP_ExistingCapacity_UniqueTechNameLv2.xlsx\",index=False)\n"
   ]
  },
  {
   "attachments": {},
   "cell_type": "markdown",
   "metadata": {},
   "source": [
    "## LifetimeTech & LifetimeLoanTech"
   ]
  },
  {
   "attachments": {},
   "cell_type": "markdown",
   "metadata": {},
   "source": [
    "### Get Energy Capacity With Specific Retirement Dates"
   ]
  },
  {
   "cell_type": "code",
   "execution_count": 200,
   "metadata": {},
   "outputs": [],
   "source": [
    "#Read File\n",
    "df_Retirement = pd.read_excel(UserDataPath+\"UserData.xlsx\", sheet_name ='LifeTimeSpecific')\n",
    "\n",
    "for i in range(df_Retirement.shape[0]):\n",
    "    Latitude=df_Retirement.iloc[i][\"Latitude\"]\n",
    "    Longitude=df_Retirement.iloc[i][\"Longitude\"]\n",
    "\n",
    "    if new_polyR1.contains(Point(Longitude,Latitude)):\n",
    "        df_Retirement.at[i,\"Region\"]='R1'\n",
    "\n",
    "    elif new_polyR2.contains(Point(Longitude,Latitude)):\n",
    "        df_Retirement.at[i,\"Region\"]='R2'\n",
    "    \n",
    "    elif new_polyR3.contains(Point(Longitude,Latitude)):\n",
    "        df_Retirement.at[i,\"Region\"]='R3'\n",
    "\n",
    "    else:\n",
    "        print(\"Error\")\n",
    "        break\n",
    "df_Retirement[\"tech\"]=df_Retirement[\"SourceCode\"]+\"_\"+df_Retirement[\"MoverCode\"] + \"_Existing\""
   ]
  },
  {
   "cell_type": "code",
   "execution_count": 201,
   "metadata": {},
   "outputs": [],
   "source": [
    "#Aggregate the retirement data (df_AggregateRetirement)\n",
    "df_AggregateRetirement = pd.DataFrame(columns=[\"PlantID\",\"SourceCode\", \"MoverCode\", \"RetireYear\", \"NameplateCapacity(MW)\",\"NetSummerCapacity(MW)\",\"NetWinterCapacity(MW)\", \"Region\"])\n",
    "\n",
    "for Region in [\"R1\",\"R2\",\"R3\"]:\n",
    "\n",
    "    df_tmp1=df_Retirement[df_Retirement[\"Region\"]==Region]\n",
    "\n",
    "    SourceCode=df_tmp1[\"SourceCode\"]\n",
    "    #Same Energy Source Code data\n",
    "    for UniqueSC in SourceCode.unique():\n",
    "        SameIds    = df_tmp1[\"SourceCode\"]==UniqueSC\n",
    "        df_tmp2    = df_tmp1[SameIds]\n",
    "\n",
    "        MoverCode=df_tmp2[\"MoverCode\"]\n",
    "        #Same Mover Code data\n",
    "        for UniqueMC in MoverCode.unique():\n",
    "            SameIds    = df_tmp2[\"MoverCode\"]==UniqueMC\n",
    "            df_tmp3    = df_tmp2[SameIds]\n",
    "            \n",
    "            RetireYear=df_tmp3[\"RetireYear\"]\n",
    "            for RefRetireYear in RetireYear.unique():\n",
    "\n",
    "                IdxsIn=df_tmp3[\"RetireYear\"]==RefRetireYear\n",
    "                if sum(IdxsIn)!=0:\n",
    "                    #So far only considering data for non BA technology\n",
    "                    if UniqueMC!=\"BA\":\n",
    "                        df_tmp4    = df_tmp3[IdxsIn]\n",
    "\n",
    "                        NameplateCapacity=np.sum(df_tmp4[\"NameplateCapacity(MW)\"])\n",
    "                        NetSummerCapacity=np.sum(df_tmp4[\"NetSummerCapacity(MW)\"])\n",
    "                        NetWinterCapacity=np.sum(df_tmp4[\"NetWinterCapacity(MW)\"])\n",
    "                        \n",
    "                        NewPlantID = Region + \"_\" + UniqueSC + \"_\" + UniqueMC + \"_Existing\"\n",
    "\n",
    "\n",
    "                        Data=[[NewPlantID, UniqueSC, UniqueMC, RefRetireYear,\n",
    "                        NameplateCapacity, NetSummerCapacity, NetWinterCapacity,Region]]\n",
    "\n",
    "                        df_AggregateRetirement=pd.concat([df_AggregateRetirement,pd.DataFrame(Data,columns=df_AggregateRetirement.columns)],ignore_index=True)\n",
    "                        "
   ]
  },
  {
   "attachments": {},
   "cell_type": "markdown",
   "metadata": {},
   "source": [
    "### Build a sql for the LifetimeTech & LifetimeLoanTech"
   ]
  },
  {
   "cell_type": "code",
   "execution_count": 202,
   "metadata": {},
   "outputs": [],
   "source": [
    "#Read File\n",
    "df = pd.read_excel(UserDataPath+\"UserData.xlsx\", sheet_name ='LifeTimesLoanTechDefault')\n",
    "\n",
    "dfLifetimeTech_sql = pd.DataFrame(columns=[\"Regions\",\"tech\", \"life\", \"life_notes\"])\n",
    "dfLifetimeLoanTech_sql = pd.DataFrame(columns=[\"Regions\",\"tech\", \"loan\", \"loan_notes\"])\n",
    "\n",
    "\n",
    "Regions=[\"R1\"]*len(df)+[\"R2\"]*len(df)+[\"R3\"]*len(df)\n",
    "tech=np.tile(df[\"tech\"],3)\n",
    "life=np.tile(df[\"life tech\"],3)\n",
    "loan=np.tile(df[\"loan\"],3)\n",
    "Observations=np.tile(df[\"Observations\"],3)\n",
    "\n",
    "dfLifetimeTech_sql[\"Regions\"]=Regions\n",
    "dfLifetimeTech_sql[\"tech\"]=tech\n",
    "dfLifetimeTech_sql[\"life\"]=life\n",
    "dfLifetimeTech_sql[\"life_notes\"]=Observations\n",
    "\n",
    "dfLifetimeLoanTech_sql[\"Regions\"]=Regions\n",
    "dfLifetimeLoanTech_sql[\"tech\"]=tech\n",
    "dfLifetimeLoanTech_sql[\"loan\"]=loan\n",
    "dfLifetimeLoanTech_sql[\"loan_notes\"]=Observations"
   ]
  },
  {
   "attachments": {},
   "cell_type": "markdown",
   "metadata": {},
   "source": [
    "## ExistingCapacity Changes to Match Known Retirements"
   ]
  },
  {
   "cell_type": "code",
   "execution_count": 203,
   "metadata": {},
   "outputs": [],
   "source": [
    "# Change the operation year and allocate capacity to match known retirements and LifetimeTech\n",
    "# On temoa there is only one LifetimeTech value per technology. Since we grouped the technologies part of it \n",
    "# may retire at different times. We only know the expected retirements for a few generators (~60%) we need to make sure retirements happen at the right time\n",
    "dfExistingCapacity_sql_adjusted = dfExistingCapacity_sql.copy()\n",
    "\n",
    "for i in range(df_Retirement.shape[0]):\n",
    "    #Retirement data\n",
    "    OperatingYear=df_Retirement.iloc[i][\"OperatingYear\"]\n",
    "    RetireYear=df_Retirement.iloc[i][\"RetireYear\"]\n",
    "\n",
    "    Region=df_Retirement.iloc[i][\"Region\"]\n",
    "    SourceCode=df_Retirement.iloc[i][\"SourceCode\"]\n",
    "    MoverCode=df_Retirement.iloc[i][\"MoverCode\"]\n",
    "    tech=df_Retirement.iloc[i][\"tech\"]\n",
    "    NameplateCapacity=df_Retirement.iloc[i][\"NameplateCapacity(MW)\"]/1000 #MW to GW\n",
    "    NetSummerCapacity=df_Retirement.iloc[i][\"NetSummerCapacity(MW)\"]/1000 #MW to GW\n",
    "    NetWinterCapacity=df_Retirement.iloc[i][\"NetWinterCapacity(MW)\"]/1000 #MW to GW\n",
    "\n",
    "    #Defined in the sql file is the same for all tehcnologies of the same type\n",
    "    LifeOfTech=dfLifetimeTech_sql[(dfLifetimeTech_sql[\"tech\"]==tech) * (dfLifetimeTech_sql[\"Regions\"]==Region)][\"life\"].iloc[0]\n",
    "\n",
    "    #Check for tech and regions that are the same\n",
    "    IdxCandidate= (dfExistingCapacity_sql[\"regions\"]==Region) * (dfExistingCapacity_sql[\"tech\"]==tech)\n",
    "    \n",
    "    if sum(IdxCandidate)!=0:\n",
    "        \n",
    "        #Check for years that are the same of very close\n",
    "        Targets=(dfExistingCapacity_sql[IdxCandidate][\"vintage\"]-OperatingYear).abs()\n",
    "        EC_Av_Discount=np.sum(dfExistingCapacity_sql[IdxCandidate][\"exist_cap\"][Targets==0]) #Existing capacity available for discount\n",
    "        \n",
    "        if EC_Av_Discount>=NameplateCapacity: #a buffer of 2 years between retirements and existing capacity is allowed\n",
    "            \n",
    "            NewVintageLocation=RetireYear-LifeOfTech #Year that the resource should be placed to match retirements\n",
    "\n",
    "            #add\n",
    "            Data=[[Region,tech, NewVintageLocation, NameplateCapacity, \"GW\", \"New add for retirement ballance\"]]\n",
    "            dfExistingCapacity_sql_adjusted=pd.concat([dfExistingCapacity_sql_adjusted,pd.DataFrame(Data,columns=dfExistingCapacity_sql.columns)],ignore_index=True) \n",
    "\n",
    "            #subtract\n",
    "            Data=[[Region,tech, OperatingYear, -NameplateCapacity, \"GW\", \"New add for retirement ballance\"]]\n",
    "            dfExistingCapacity_sql_adjusted=pd.concat([dfExistingCapacity_sql_adjusted,pd.DataFrame(Data,columns=dfExistingCapacity_sql.columns)],ignore_index=True)            \n",
    "\n",
    "        else:\n",
    "            print(\"Error- Inconsistency between retirements and existing capacity. Not enought capacity on the EIA 860 forms for the target retire\")\n",
    "            print(\"On Retirement Info: Tech (%s)  OperatingYear (%s)  NameplateCapacity (%s)\"%(tech,OperatingYear,NameplateCapacity))\n",
    "            break\n"
   ]
  },
  {
   "cell_type": "code",
   "execution_count": 204,
   "metadata": {},
   "outputs": [
    {
     "name": "stdout",
     "output_type": "stream",
     "text": [
      "Known retirements properly allocated to existing capacity.\n"
     ]
    }
   ],
   "source": [
    "dfExistingCapacity_sql_adjusted_tmp=dfExistingCapacity_sql_adjusted.groupby([\"regions\",\"tech\",\"vintage\"])[\"exist_cap\"].sum().reset_index()\n",
    "dfExistingCapacity_sql_adjusted_tmp[\"exist_cap_units\"]=\"GW\"\n",
    "dfExistingCapacity_sql_adjusted_tmp[\"exist_cap_notes\"]=\"EIA 860 Generator + Code 2 aggregate\"\n",
    "\n",
    "#Check for negative values\n",
    "#pop error\n",
    "if np.sum(dfExistingCapacity_sql_adjusted_tmp[dfExistingCapacity_sql_adjusted_tmp[\"exist_cap\"]<0][\"exist_cap\"])<=-1/1000: #1MW of inconsistency:\n",
    "    print(\"Error- Inconsistency between retirements and existing capacity. Negative values existing capacity\")\n",
    "else:\n",
    "    dfExistingCapacity_sql_adjusted_tmp=dfExistingCapacity_sql_adjusted_tmp[dfExistingCapacity_sql_adjusted_tmp[\"exist_cap\"]>0]\n",
    "    dfExistingCapacity_sql_adjusted=dfExistingCapacity_sql_adjusted_tmp\n",
    "    print(\"Known retirements properly allocated to existing capacity.\")\n",
    "\n",
    "#dfExistingCapacity_sql_adjusted: corrected ExistingCapacityValues"
   ]
  },
  {
   "attachments": {},
   "cell_type": "markdown",
   "metadata": {},
   "source": [
    "### Print Retirements"
   ]
  },
  {
   "cell_type": "code",
   "execution_count": 205,
   "metadata": {},
   "outputs": [
    {
     "data": {
      "text/plain": [
       "Text(0.5, 1.0, 'Time of Retirement of Existing Capacity <2023 \\n 0.19 % of total exisitng capacity')"
      ]
     },
     "execution_count": 205,
     "metadata": {},
     "output_type": "execute_result"
    },
    {
     "data": {
      "image/png": "[encoded data removed]",
      "text/plain": [
       "<Figure size 640x480 with 1 Axes>"
      ]
     },
     "metadata": {},
     "output_type": "display_data"
    }
   ],
   "source": [
    "UniqueExistingTech=dfExistingCapacity_sql_adjusted[\"tech\"].unique()\n",
    "\n",
    "df=dfExistingCapacity_sql_adjusted.copy().reset_index(drop=True)\n",
    "df[\"RetireYear\"]=0\n",
    "\n",
    "for i in range(len(df)):\n",
    "    Life=dfLifetimeTech_sql[dfLifetimeTech_sql[\"tech\"]==df.at[i,\"tech\"]].iloc[0][\"life\"]\n",
    "    \n",
    "    df.at[i,\"RetireYear\"]=int(Life + df.at[i,\"vintage\"])\n",
    "\n",
    "\n",
    "MinRetirement=df[\"RetireYear\"].min()\n",
    "MaxRetirement=2023#df[\"RetireYear\"].max()\n",
    "\n",
    "YearsPlot=np.arange(MinRetirement,MaxRetirement,1)\n",
    "\n",
    "Data=np.zeros((len(UniqueExistingTech),len(YearsPlot)))\n",
    "\n",
    "for i in range(len(UniqueExistingTech)):\n",
    "    for j in range(len(YearsPlot)):\n",
    "\n",
    "        Data[i,j]=np.sum(df[(df[\"tech\"]==UniqueExistingTech[i])*(df[\"RetireYear\"]==YearsPlot[j])][\"exist_cap\"])\n",
    "\n",
    "fig, ax = plt.subplots()\n",
    "\n",
    "for i in range(Data.shape[0]):\n",
    "  if np.sum (Data[i,:])!=0:\n",
    "    ax.bar(YearsPlot, Data[i,:], label = UniqueExistingTech[i])\n",
    "  \n",
    "ax.legend(loc='upper center', bbox_to_anchor=(0.5, -0.05),\n",
    "          fancybox=True, shadow=True, ncol=5)\n",
    "\n",
    "plt.title(\"Time of Retirement of Existing Capacity <2023 \\n %.2f %% of total exisitng capacity\"%(np.sum(Data)/np.sum(df[\"exist_cap\"])*100))\n"
   ]
  },
  {
   "attachments": {},
   "cell_type": "markdown",
   "metadata": {},
   "source": [
    "### Last Ajustment in Existing Capacity"
   ]
  },
  {
   "cell_type": "code",
   "execution_count": 206,
   "metadata": {},
   "outputs": [],
   "source": [
    "#Capacity that is mathematically already retired (due to lifetime values) but not rerited according to EIA 860 are elimited from the model\n",
    "#However, you can explicitly imput the retirement date of this generation (of any generation) on the user data (LifeTimeSpecific) excel file is you want to keep it.\n",
    "\n",
    "dfExistingCapacity_sql_adjusted=df[df[\"RetireYear\"]>=np.min(FutureYears)]\n",
    "dfExistingCapacity_sql=dfExistingCapacity_sql_adjusted.drop(columns=[\"RetireYear\"])"
   ]
  },
  {
   "attachments": {},
   "cell_type": "markdown",
   "metadata": {},
   "source": [
    "## Demand"
   ]
  },
  {
   "attachments": {},
   "cell_type": "markdown",
   "metadata": {},
   "source": [
    "### Get Population at Each Region"
   ]
  },
  {
   "cell_type": "code",
   "execution_count": 207,
   "metadata": {},
   "outputs": [],
   "source": [
    "#For demand we get total energy demand of the sate from the IRPs\n",
    "#and allocate the demand to R1, R2, R3 based on the population of each region\n",
    "shapefile_Pop = gpd.read_file(CensusDataPath)\n",
    "PointsPop=[Point(shapefile_Pop[\"LONGITUDE\"][i],shapefile_Pop[\"LATITUDE\"][i]) for i in range(len(shapefile_Pop))]\n",
    "PopulationR1=0\n",
    "PopulationR2=0\n",
    "PopulationR3=0\n",
    "\n",
    "for i in range(len(PointsPop)):\n",
    "    point=PointsPop[i]\n",
    "\n",
    "    if new_polyR1.contains(point):\n",
    "        PopulationR1=PopulationR1+shapefile_Pop[\"POPULATION\"][i]\n",
    "        \n",
    "    elif new_polyR2.contains(point):\n",
    "        PopulationR2=PopulationR2+shapefile_Pop[\"POPULATION\"][i]\n",
    "\n",
    "    elif new_polyR3.contains(point):\n",
    "        PopulationR3=PopulationR3+shapefile_Pop[\"POPULATION\"][i]"
   ]
  },
  {
   "attachments": {},
   "cell_type": "markdown",
   "metadata": {},
   "source": [
    "### Read Demand From User and Regionalize"
   ]
  },
  {
   "cell_type": "code",
   "execution_count": 208,
   "metadata": {},
   "outputs": [],
   "source": [
    "#Read from excel\n",
    "NonRegionalizedDemand_df = pd.read_excel(UserDataPath+\"UserData.xlsx\", sheet_name ='Demand')\n",
    "\n",
    "#Get demand in each region\n",
    "DemandR1=PopulationR1/(PopulationR1+PopulationR2+PopulationR3)*NonRegionalizedDemand_df[\"Demand [PJ]\"]\n",
    "DemandR2=PopulationR2/(PopulationR1+PopulationR2+PopulationR3)*NonRegionalizedDemand_df[\"Demand [PJ]\"]\n",
    "DemandR3=PopulationR3/(PopulationR1+PopulationR2+PopulationR3)*NonRegionalizedDemand_df[\"Demand [PJ]\"]\n",
    "\n",
    "#Filter for the future years\n",
    "DemandR1=DemandR1[np.searchsorted(NonRegionalizedDemand_df[\"periods\"], FutureYears)]\n",
    "DemandR2=DemandR2[np.searchsorted(NonRegionalizedDemand_df[\"periods\"], FutureYears)]\n",
    "DemandR3=DemandR3[np.searchsorted(NonRegionalizedDemand_df[\"periods\"], FutureYears)]\n",
    "\n",
    "\n",
    "#Create sql dataframe\n",
    "Demand_sql = pd.DataFrame(columns=[\"regions\", \"periods\", \"demand_comm\", \"demand\", \"demand_units\", \"demand_notes\"])\n",
    "\n",
    "Demand_sql[\"regions\"]=[\"R1\"]*len(FutureYears)+[\"R2\"]*len(FutureYears)+[\"R3\"]*len(FutureYears)\n",
    "Demand_sql[\"periods\"]=np.tile(FutureYears,3)\n",
    "Demand_sql[\"demand\"]=np.concatenate((DemandR1,DemandR2,DemandR3),axis=0)\n",
    "\n",
    "Demand_sql[\"demand_units\"]=\"PJ\"\n",
    "Demand_sql[\"demand_comm\"]=\"ELCD\" #Electricity demand\n",
    "Demand_sql[\"demand_notes\"]=NonRegionalizedDemand_df[\"Comments\"][0]\n"
   ]
  },
  {
   "attachments": {},
   "cell_type": "markdown",
   "metadata": {},
   "source": [
    "## time (_of_day, _period_labels, _periods, _renewable, _season)"
   ]
  },
  {
   "cell_type": "code",
   "execution_count": 209,
   "metadata": {},
   "outputs": [],
   "source": [
    "#time_of_day\n",
    "time_of_day_sql=pd.DataFrame(columns=[\"t_day\"])\n",
    "time_of_day_sql[\"t_day\"]=TimeOfDay\n",
    "\n",
    "#time_period_labels\n",
    "time_period_labels_sql=pd.DataFrame(columns=[\"t_period_labels\",\"t_periods_labels_desc\"])\n",
    "time_period_labels_sql[\"t_period_labels\"]=[\"e\",\"f\"]\n",
    "time_period_labels_sql[\"t_periods_labels_desc\"]=[\"existing vintages\",\"future\"]\n",
    "\n",
    "#time_periods\n",
    "time_periods_sql=pd.DataFrame(columns=[\"t_periods\",\"flag\"])\n",
    "Exisist=Vintages[0:np.where(Vintages==dfExistingCapacity_sql[\"vintage\"].min())[0][0]]\n",
    "Exisist=Exisist[::-1]\n",
    "Fut=FutureYears\n",
    "Periods=np.concatenate((Exisist,Fut))\n",
    "\n",
    "time_periods_sql[\"t_periods\"]=Periods\n",
    "time_periods_sql.loc[time_periods_sql[\"t_periods\"]<=dfExistingCapacity_sql[\"vintage\"].max(),\"flag\"]=\"e\"\n",
    "time_periods_sql.loc[time_periods_sql[\"t_periods\"]>dfExistingCapacity_sql[\"vintage\"].max(),\"flag\"]=\"f\"\n",
    "\n",
    "#time_renewable (Empty)\n",
    "time_renewable_sql=pd.DataFrame(columns=[\"Field1\"])\n",
    "\n",
    "#time_season\n",
    "time_of_day_sql=pd.DataFrame(columns=[\"t_season\"])\n",
    "time_of_day_sql[\"t_season\"]=Seasons"
   ]
  },
  {
   "attachments": {},
   "cell_type": "markdown",
   "metadata": {},
   "source": [
    "## sector_labels, technology_labels"
   ]
  },
  {
   "cell_type": "code",
   "execution_count": 210,
   "metadata": {},
   "outputs": [],
   "source": [
    "#sector_labels\n",
    "sector_labels_sql=pd.DataFrame(columns=[\"sector\"])\n",
    "sector_labels_sql[\"sector\"]=[\"supply\",\"electric\",\"electric_misc\",\"transport\",\"commercial\", \"residential\",\"industrial\"]"
   ]
  },
  {
   "cell_type": "code",
   "execution_count": 211,
   "metadata": {},
   "outputs": [],
   "source": [
    "technology_labels_sql=pd.DataFrame(columns=[\"tech_labels\",\"tech_labels_desc\"])\n",
    "technology_labels_sql[\"tech_labels\"]=[\"r\",\"p\",\"pb\",\"ps\"]\n",
    "technology_labels_sql[\"tech_labels_desc\"]=[\"resource technology\",\"production technology\",\"baseload production technology\",\"storage production technology\"]"
   ]
  },
  {
   "attachments": {},
   "cell_type": "markdown",
   "metadata": {},
   "source": [
    "## technologies"
   ]
  },
  {
   "cell_type": "code",
   "execution_count": 212,
   "metadata": {},
   "outputs": [],
   "source": [
    "#Read from excel\n",
    "technologies_sql = pd.read_excel(UserDataPath+\"UserData.xlsx\", sheet_name ='technologies')\n",
    "technologies_sql=technologies_sql.drop(columns=[\"Observations\"])\n",
    "technologies_sql[\"tech_category\"]=\"\"\n",
    "\n",
    "# #verify content\n",
    "if set(technologies_sql.columns)!=(set([\"tech\", \"flag\", \"sector\", \"tech_desc\", \"tech_category\"])):\n",
    "    print(\"Error: There are heads in the technologies sheet not valid\")\n",
    "    print(\"Look at the path: \" + UserDataPath+\"UserData.xlsx\")\n",
    "    sys.exit()\n",
    "\n",
    "if set(technologies_sql[\"flag\"].unique()).issubset(set(technology_labels_sql[\"tech_labels\"]))!=True:\n",
    "    print(\"Error: There are elements flag in the technologies sheet not valid\")\n",
    "    print(\"Look at the path: \" + UserDataPath+\"UserData.xlsx\")\n",
    "    sys.exit()\n",
    "\n",
    "if set(technologies_sql[\"sector\"].unique()).issubset(set(sector_labels_sql[\"sector\"]))!=True:\n",
    "    print(\"Error: There are elements sector in the technologies sheet not valid\")\n",
    "    print(\"Look at the path: \" + UserDataPath+\"UserData.xlsx\")\n",
    "    sys.exit()"
   ]
  },
  {
   "attachments": {},
   "cell_type": "markdown",
   "metadata": {},
   "source": [
    "### Get region and name of unique existing and future tech"
   ]
  },
  {
   "cell_type": "code",
   "execution_count": 287,
   "metadata": {},
   "outputs": [],
   "source": [
    "UniqueExistingTech=dfExistingCapacity_sql.groupby([\"regions\",\"tech\"]).size().reset_index().rename(columns={0:'Occurances'}) \n",
    "UniqueExistingTech=UniqueExistingTech.drop(columns=[\"Occurances\"])\n",
    "\n",
    "df = pd.read_excel(UserDataPath+\"UserData.xlsx\", sheet_name ='NewTechRegions')\n",
    "\n",
    "regions=[]\n",
    "tech=[]\n",
    "for i in range(len(df)):\n",
    "    if df.iloc[i][\"R1\"]==1:\n",
    "        regions.append(\"R1\")\n",
    "        tech.append(df.iloc[i][\"tech\"])\n",
    "\n",
    "    if df.iloc[i][\"R2\"]==1:\n",
    "        regions.append(\"R2\")\n",
    "        tech.append(df.iloc[i][\"tech\"])\n",
    "\n",
    "    if df.iloc[i][\"R3\"]==1:\n",
    "        regions.append(\"R3\")\n",
    "        tech.append(df.iloc[i][\"tech\"])\n",
    "\n",
    "UniqueFutureTech = pd.DataFrame(list(zip(regions, tech)),columns=[\"regions\",\"tech\"])"
   ]
  },
  {
   "attachments": {},
   "cell_type": "markdown",
   "metadata": {},
   "source": [
    "### Adjust LifeTimeTech & Loan"
   ]
  },
  {
   "cell_type": "code",
   "execution_count": 305,
   "metadata": {},
   "outputs": [],
   "source": [
    "UniqueEFTech = pd.concat([UniqueExistingTech,UniqueFutureTech])\n",
    "DropRows=[]\n",
    "\n",
    "for tech,region in zip(dfLifetimeLoanTech_sql[\"tech\"],dfLifetimeLoanTech_sql[\"Regions\"]):\n",
    "\n",
    "    if (region, tech) not in set(zip(UniqueEFTech[\"regions\"], UniqueEFTech[\"tech\"])):\n",
    "        DropRows.append(False)\n",
    "    else:\n",
    "        DropRows.append(True)\n",
    "\n",
    "#Only keep the rows that of values relevant to the model\n",
    "dfLifetimeLoanTech_sql=dfLifetimeLoanTech_sql[DropRows]\n",
    "dfLifetimeTech_sql=dfLifetimeTech_sql[DropRows]"
   ]
  },
  {
   "attachments": {},
   "cell_type": "markdown",
   "metadata": {},
   "source": [
    "## CostInvest"
   ]
  },
  {
   "cell_type": "code",
   "execution_count": 351,
   "metadata": {},
   "outputs": [],
   "source": [
    "df = pd.read_excel(UserDataPath+\"UserData.xlsx\", sheet_name ='CostInvest')\n",
    "\n",
    "CostInvest_sql = pd.DataFrame(columns=[\"regions\",\"tech\",\"vintage\",\"cost_invest\",\"cost_invest_units\",\"cost_invest_notes\"])\n",
    "\n",
    "for region, tech in zip(UniqueFutureTech[\"regions\"], UniqueFutureTech[\"tech\"]):\n",
    "\n",
    "    df_tmp=df[df[\"tech\"]==tech]\n",
    "\n",
    "    if np.sum(df_tmp[\"Stage\"]==UserScenario)!=0:\n",
    "        df_tmp=df_tmp[df_tmp[\"Stage\"]==UserScenario]\n",
    "\n",
    "        #If you cant find UserScenario you assign \"Single\" as the scenario\n",
    "    else:\n",
    "        df_tmp=df_tmp[df_tmp[\"Stage\"]==\"Single\"]\n",
    "\n",
    "    if len(df_tmp)==0:\n",
    "        print(\"Error: There are no values for the technology \"+tech+\" in the CostInvest sheet\")\n",
    "        print(\"Look at the path: \" + UserDataPath+\"UserData.xlsx\")\n",
    "        break\n",
    "\n",
    "    for vintage in FutureYears[:-1]:\n",
    "\n",
    "        cost_invest=df_tmp[vintage].iloc[0]\n",
    "        cost_invest_units=df_tmp[\"cost_invest_units\"].iloc[0]\n",
    "        cost_invest_notes=df_tmp[\"cost_invest_notes\"].iloc[0]\n",
    "        Data=[[region, tech, vintage, cost_invest, cost_invest_units, cost_invest_notes]]\n",
    "\n",
    "        CostInvest_sql=pd.concat([CostInvest_sql,pd.DataFrame(Data,columns=CostInvest_sql.columns)],ignore_index=True)      "
   ]
  },
  {
   "attachments": {},
   "cell_type": "markdown",
   "metadata": {},
   "source": [
    "Cost"
   ]
  }
 ],
 "metadata": {
  "kernelspec": {
   "display_name": "Temoa",
   "language": "python",
   "name": "python3"
  },
  "language_info": {
   "codemirror_mode": {
    "name": "ipython",
    "version": 3
   },
   "file_extension": ".py",
   "mimetype": "text/x-python",
   "name": "python",
   "nbconvert_exporter": "python",
   "pygments_lexer": "ipython3",
   "version": "3.11.3"
  },
  "orig_nbformat": 4
 },
 "nbformat": 4,
 "nbformat_minor": 2
}
